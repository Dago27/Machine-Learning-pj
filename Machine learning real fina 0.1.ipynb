{
 "cells": [
  {
   "cell_type": "markdown",
   "id": "5cd42ba4",
   "metadata": {},
   "source": [
    "\n",
    "\n",
    "# importing libraries\n"
   ]
  },
  {
   "cell_type": "code",
   "execution_count": 14,
   "id": "4c7f104f",
   "metadata": {},
   "outputs": [],
   "source": [
    "# for data analysis \n",
    "\n",
    "import pandas as pd\n",
    "import numpy as np\n",
    "\n",
    "import os\n"
   ]
  },
  {
   "cell_type": "code",
   "execution_count": 15,
   "id": "4d059e90",
   "metadata": {},
   "outputs": [],
   "source": [
    "from os import listdir\n",
    "from os.path import isfile, join\n",
    "\n",
    "loc = os.path.abspath(\"\")\n",
    "data_loc = f\"{loc}/data\""
   ]
  },
  {
   "cell_type": "markdown",
   "id": "9ac136b1",
   "metadata": {},
   "source": [
    "# check data loading time and memory usage"
   ]
  },
  {
   "cell_type": "code",
   "execution_count": 16,
   "id": "f877fd97",
   "metadata": {},
   "outputs": [
    {
     "name": "stdout",
     "output_type": "stream",
     "text": [
      "CPU times: user 4.92 s, sys: 6.32 s, total: 11.2 s\n",
      "Wall time: 2.55 s\n"
     ]
    }
   ],
   "source": [
    "%%time \n",
    "test_tran = pd.read_parquet('test_transaction.parquet')\n",
    "\n",
    "train_tran = pd.read_parquet('train_transaction.parquet')\n",
    "\n",
    "test_id = pd.read_parquet('test_identity.parquet')\n",
    "\n",
    "\n",
    "train_id = pd.read_parquet('train_identity.parquet')"
   ]
  },
  {
   "cell_type": "code",
   "execution_count": 18,
   "id": "49d8366f",
   "metadata": {},
   "outputs": [
    {
     "name": "stdout",
     "output_type": "stream",
     "text": [
      "<class 'pandas.core.frame.DataFrame'>\n",
      "RangeIndex: 506691 entries, 0 to 506690\n",
      "Columns: 393 entries, TransactionID to V339\n",
      "dtypes: float64(376), int64(3), object(14)\n",
      "memory usage: 1.5+ GB\n"
     ]
    }
   ],
   "source": [
    "test_tran.info()"
   ]
  },
  {
   "cell_type": "code",
   "execution_count": 19,
   "id": "3038da3a",
   "metadata": {},
   "outputs": [
    {
     "name": "stdout",
     "output_type": "stream",
     "text": [
      "<class 'pandas.core.frame.DataFrame'>\n",
      "RangeIndex: 590540 entries, 0 to 590539\n",
      "Columns: 394 entries, TransactionID to V339\n",
      "dtypes: float64(376), int64(4), object(14)\n",
      "memory usage: 1.7+ GB\n"
     ]
    }
   ],
   "source": [
    "train_tran.info()"
   ]
  },
  {
   "cell_type": "code",
   "execution_count": 20,
   "id": "d53bb818",
   "metadata": {},
   "outputs": [
    {
     "name": "stdout",
     "output_type": "stream",
     "text": [
      "<class 'pandas.core.frame.DataFrame'>\n",
      "RangeIndex: 141907 entries, 0 to 141906\n",
      "Data columns (total 41 columns):\n",
      " #   Column         Non-Null Count   Dtype  \n",
      "---  ------         --------------   -----  \n",
      " 0   TransactionID  141907 non-null  int64  \n",
      " 1   id-01          141907 non-null  float64\n",
      " 2   id-02          136976 non-null  float64\n",
      " 3   id-03          66481 non-null   float64\n",
      " 4   id-04          66481 non-null   float64\n",
      " 5   id-05          134750 non-null  float64\n",
      " 6   id-06          134750 non-null  float64\n",
      " 7   id-07          5059 non-null    float64\n",
      " 8   id-08          5059 non-null    float64\n",
      " 9   id-09          74338 non-null   float64\n",
      " 10  id-10          74338 non-null   float64\n",
      " 11  id-11          136778 non-null  float64\n",
      " 12  id-12          141907 non-null  object \n",
      " 13  id-13          130286 non-null  float64\n",
      " 14  id-14          71357 non-null   float64\n",
      " 15  id-15          136977 non-null  object \n",
      " 16  id-16          125747 non-null  object \n",
      " 17  id-17          135966 non-null  float64\n",
      " 18  id-18          50875 non-null   float64\n",
      " 19  id-19          135906 non-null  float64\n",
      " 20  id-20          135633 non-null  float64\n",
      " 21  id-21          5059 non-null    float64\n",
      " 22  id-22          5062 non-null    float64\n",
      " 23  id-23          5062 non-null    object \n",
      " 24  id-24          4740 non-null    float64\n",
      " 25  id-25          5039 non-null    float64\n",
      " 26  id-26          5047 non-null    float64\n",
      " 27  id-27          5062 non-null    object \n",
      " 28  id-28          136778 non-null  object \n",
      " 29  id-29          136778 non-null  object \n",
      " 30  id-30          70659 non-null   object \n",
      " 31  id-31          136625 non-null  object \n",
      " 32  id-32          70671 non-null   float64\n",
      " 33  id-33          70671 non-null   object \n",
      " 34  id-34          72175 non-null   object \n",
      " 35  id-35          136977 non-null  object \n",
      " 36  id-36          136977 non-null  object \n",
      " 37  id-37          136977 non-null  object \n",
      " 38  id-38          136977 non-null  object \n",
      " 39  DeviceType     136931 non-null  object \n",
      " 40  DeviceInfo     115057 non-null  object \n",
      "dtypes: float64(23), int64(1), object(17)\n",
      "memory usage: 44.4+ MB\n"
     ]
    }
   ],
   "source": [
    "test_id.info()"
   ]
  },
  {
   "cell_type": "code",
   "execution_count": 21,
   "id": "50693c70",
   "metadata": {},
   "outputs": [
    {
     "name": "stdout",
     "output_type": "stream",
     "text": [
      "<class 'pandas.core.frame.DataFrame'>\n",
      "RangeIndex: 144233 entries, 0 to 144232\n",
      "Data columns (total 41 columns):\n",
      " #   Column         Non-Null Count   Dtype  \n",
      "---  ------         --------------   -----  \n",
      " 0   TransactionID  144233 non-null  int64  \n",
      " 1   id_01          144233 non-null  float64\n",
      " 2   id_02          140872 non-null  float64\n",
      " 3   id_03          66324 non-null   float64\n",
      " 4   id_04          66324 non-null   float64\n",
      " 5   id_05          136865 non-null  float64\n",
      " 6   id_06          136865 non-null  float64\n",
      " 7   id_07          5155 non-null    float64\n",
      " 8   id_08          5155 non-null    float64\n",
      " 9   id_09          74926 non-null   float64\n",
      " 10  id_10          74926 non-null   float64\n",
      " 11  id_11          140978 non-null  float64\n",
      " 12  id_12          144233 non-null  object \n",
      " 13  id_13          127320 non-null  float64\n",
      " 14  id_14          80044 non-null   float64\n",
      " 15  id_15          140985 non-null  object \n",
      " 16  id_16          129340 non-null  object \n",
      " 17  id_17          139369 non-null  float64\n",
      " 18  id_18          45113 non-null   float64\n",
      " 19  id_19          139318 non-null  float64\n",
      " 20  id_20          139261 non-null  float64\n",
      " 21  id_21          5159 non-null    float64\n",
      " 22  id_22          5169 non-null    float64\n",
      " 23  id_23          5169 non-null    object \n",
      " 24  id_24          4747 non-null    float64\n",
      " 25  id_25          5132 non-null    float64\n",
      " 26  id_26          5163 non-null    float64\n",
      " 27  id_27          5169 non-null    object \n",
      " 28  id_28          140978 non-null  object \n",
      " 29  id_29          140978 non-null  object \n",
      " 30  id_30          77565 non-null   object \n",
      " 31  id_31          140282 non-null  object \n",
      " 32  id_32          77586 non-null   float64\n",
      " 33  id_33          73289 non-null   object \n",
      " 34  id_34          77805 non-null   object \n",
      " 35  id_35          140985 non-null  object \n",
      " 36  id_36          140985 non-null  object \n",
      " 37  id_37          140985 non-null  object \n",
      " 38  id_38          140985 non-null  object \n",
      " 39  DeviceType     140810 non-null  object \n",
      " 40  DeviceInfo     118666 non-null  object \n",
      "dtypes: float64(23), int64(1), object(17)\n",
      "memory usage: 45.1+ MB\n"
     ]
    }
   ],
   "source": [
    "train_id.info()"
   ]
  },
  {
   "cell_type": "markdown",
   "id": "eec1a36f",
   "metadata": {},
   "source": [
    "# the data is big in size, therefore i will use a function to reduce its memory for fast processing and consuming less storage."
   ]
  },
  {
   "cell_type": "code",
   "execution_count": 22,
   "id": "5e39a2d5",
   "metadata": {},
   "outputs": [],
   "source": [
    "def downcast_dtypes (df):\n",
    "    _start = df.memory_usage(deep=True).sum() / 1024 ** 2\n",
    "    float_cols = [c for c in df if df [c].dtype == \"float64\"]\n",
    "    int_cols = [c for c in df if df [c].dtype in [\"int64\", \"int32\"]]\n",
    "    df[float_cols] = df[float_cols].astype(np.float32)\n",
    "    df[int_cols] = df[int_cols].astype(np.int16)\n",
    "    _end = df.memory_usage(deep=True).sum() / 1024 ** 2\n",
    "    saved = (_start - _end) / _start * 100\n",
    "    print(f\"saved {saved:.2f}%\")\n",
    "    return df"
   ]
  },
  {
   "cell_type": "code",
   "execution_count": 23,
   "id": "b869240a",
   "metadata": {},
   "outputs": [
    {
     "name": "stdout",
     "output_type": "stream",
     "text": [
      "saved 41.10%\n",
      "saved 41.45%\n",
      "saved 8.86%\n",
      "saved 8.79%\n"
     ]
    }
   ],
   "source": [
    "test_tran = downcast_dtypes(test_tran)\n",
    "train_tran = downcast_dtypes(train_tran)\n",
    "test_id = downcast_dtypes(test_id)\n",
    "train_id = downcast_dtypes(train_id)\n"
   ]
  },
  {
   "cell_type": "code",
   "execution_count": 10,
   "id": "a73d4216",
   "metadata": {},
   "outputs": [
    {
     "name": "stdout",
     "output_type": "stream",
     "text": [
      "<class 'pandas.core.frame.DataFrame'>\n",
      "RangeIndex: 506691 entries, 0 to 506690\n",
      "Columns: 393 entries, TransactionID to V339\n",
      "dtypes: float32(376), int16(3), object(14)\n",
      "memory usage: 783.8+ MB\n",
      "None\n"
     ]
    }
   ],
   "source": [
    "print(test_tran.info())"
   ]
  },
  {
   "cell_type": "code",
   "execution_count": 11,
   "id": "e491b32f",
   "metadata": {},
   "outputs": [
    {
     "name": "stdout",
     "output_type": "stream",
     "text": [
      "<class 'pandas.core.frame.DataFrame'>\n",
      "RangeIndex: 590540 entries, 0 to 590539\n",
      "Columns: 394 entries, TransactionID to V339\n",
      "dtypes: float32(376), int16(4), object(14)\n",
      "memory usage: 914.6+ MB\n",
      "None\n"
     ]
    }
   ],
   "source": [
    "print(train_tran.info())"
   ]
  },
  {
   "cell_type": "code",
   "execution_count": 12,
   "id": "5fe8fa62",
   "metadata": {},
   "outputs": [
    {
     "name": "stdout",
     "output_type": "stream",
     "text": [
      "<class 'pandas.core.frame.DataFrame'>\n",
      "RangeIndex: 141907 entries, 0 to 141906\n",
      "Data columns (total 41 columns):\n",
      " #   Column         Non-Null Count   Dtype  \n",
      "---  ------         --------------   -----  \n",
      " 0   TransactionID  141907 non-null  int16  \n",
      " 1   id-01          141907 non-null  float32\n",
      " 2   id-02          136976 non-null  float32\n",
      " 3   id-03          66481 non-null   float32\n",
      " 4   id-04          66481 non-null   float32\n",
      " 5   id-05          134750 non-null  float32\n",
      " 6   id-06          134750 non-null  float32\n",
      " 7   id-07          5059 non-null    float32\n",
      " 8   id-08          5059 non-null    float32\n",
      " 9   id-09          74338 non-null   float32\n",
      " 10  id-10          74338 non-null   float32\n",
      " 11  id-11          136778 non-null  float32\n",
      " 12  id-12          141907 non-null  object \n",
      " 13  id-13          130286 non-null  float32\n",
      " 14  id-14          71357 non-null   float32\n",
      " 15  id-15          136977 non-null  object \n",
      " 16  id-16          125747 non-null  object \n",
      " 17  id-17          135966 non-null  float32\n",
      " 18  id-18          50875 non-null   float32\n",
      " 19  id-19          135906 non-null  float32\n",
      " 20  id-20          135633 non-null  float32\n",
      " 21  id-21          5059 non-null    float32\n",
      " 22  id-22          5062 non-null    float32\n",
      " 23  id-23          5062 non-null    object \n",
      " 24  id-24          4740 non-null    float32\n",
      " 25  id-25          5039 non-null    float32\n",
      " 26  id-26          5047 non-null    float32\n",
      " 27  id-27          5062 non-null    object \n",
      " 28  id-28          136778 non-null  object \n",
      " 29  id-29          136778 non-null  object \n",
      " 30  id-30          70659 non-null   object \n",
      " 31  id-31          136625 non-null  object \n",
      " 32  id-32          70671 non-null   float32\n",
      " 33  id-33          70671 non-null   object \n",
      " 34  id-34          72175 non-null   object \n",
      " 35  id-35          136977 non-null  object \n",
      " 36  id-36          136977 non-null  object \n",
      " 37  id-37          136977 non-null  object \n",
      " 38  id-38          136977 non-null  object \n",
      " 39  DeviceType     136931 non-null  object \n",
      " 40  DeviceInfo     115057 non-null  object \n",
      "dtypes: float32(23), int16(1), object(17)\n",
      "memory usage: 31.1+ MB\n",
      "None\n"
     ]
    }
   ],
   "source": [
    "print(test_id.info())\n"
   ]
  },
  {
   "cell_type": "code",
   "execution_count": 13,
   "id": "c78c8ea9",
   "metadata": {},
   "outputs": [
    {
     "name": "stdout",
     "output_type": "stream",
     "text": [
      "<class 'pandas.core.frame.DataFrame'>\n",
      "RangeIndex: 144233 entries, 0 to 144232\n",
      "Data columns (total 41 columns):\n",
      " #   Column         Non-Null Count   Dtype  \n",
      "---  ------         --------------   -----  \n",
      " 0   TransactionID  144233 non-null  int16  \n",
      " 1   id_01          144233 non-null  float32\n",
      " 2   id_02          140872 non-null  float32\n",
      " 3   id_03          66324 non-null   float32\n",
      " 4   id_04          66324 non-null   float32\n",
      " 5   id_05          136865 non-null  float32\n",
      " 6   id_06          136865 non-null  float32\n",
      " 7   id_07          5155 non-null    float32\n",
      " 8   id_08          5155 non-null    float32\n",
      " 9   id_09          74926 non-null   float32\n",
      " 10  id_10          74926 non-null   float32\n",
      " 11  id_11          140978 non-null  float32\n",
      " 12  id_12          144233 non-null  object \n",
      " 13  id_13          127320 non-null  float32\n",
      " 14  id_14          80044 non-null   float32\n",
      " 15  id_15          140985 non-null  object \n",
      " 16  id_16          129340 non-null  object \n",
      " 17  id_17          139369 non-null  float32\n",
      " 18  id_18          45113 non-null   float32\n",
      " 19  id_19          139318 non-null  float32\n",
      " 20  id_20          139261 non-null  float32\n",
      " 21  id_21          5159 non-null    float32\n",
      " 22  id_22          5169 non-null    float32\n",
      " 23  id_23          5169 non-null    object \n",
      " 24  id_24          4747 non-null    float32\n",
      " 25  id_25          5132 non-null    float32\n",
      " 26  id_26          5163 non-null    float32\n",
      " 27  id_27          5169 non-null    object \n",
      " 28  id_28          140978 non-null  object \n",
      " 29  id_29          140978 non-null  object \n",
      " 30  id_30          77565 non-null   object \n",
      " 31  id_31          140282 non-null  object \n",
      " 32  id_32          77586 non-null   float32\n",
      " 33  id_33          73289 non-null   object \n",
      " 34  id_34          77805 non-null   object \n",
      " 35  id_35          140985 non-null  object \n",
      " 36  id_36          140985 non-null  object \n",
      " 37  id_37          140985 non-null  object \n",
      " 38  id_38          140985 non-null  object \n",
      " 39  DeviceType     140810 non-null  object \n",
      " 40  DeviceInfo     118666 non-null  object \n",
      "dtypes: float32(23), int16(1), object(17)\n",
      "memory usage: 31.6+ MB\n",
      "None\n"
     ]
    }
   ],
   "source": [
    "print(train_id.info())"
   ]
  },
  {
   "cell_type": "markdown",
   "id": "f0467999",
   "metadata": {},
   "source": [
    "# now i will merge both datasets for a better analysis\n",
    "\n"
   ]
  },
  {
   "cell_type": "code",
   "execution_count": 34,
   "id": "8e27e808",
   "metadata": {},
   "outputs": [],
   "source": [
    "new_test = pd.merge(test_tran,test_id, on= \"TransactionID\",how=\"left\")\n",
    "new_train = pd.merge(train_tran,train_id,on= \"TransactionID\",how=\"left\")"
   ]
  },
  {
   "cell_type": "code",
   "execution_count": 31,
   "id": "3ebec7c1",
   "metadata": {},
   "outputs": [],
   "source": []
  },
  {
   "cell_type": "code",
   "execution_count": 32,
   "id": "8949dce7",
   "metadata": {},
   "outputs": [
    {
     "name": "stdout",
     "output_type": "stream",
     "text": [
      "new_test shape: (1137490, 433), new_train sahpe: (1342281, 434)\n"
     ]
    }
   ],
   "source": [
    "print(f\"new_test shape: {new_test.shape}, new_train sahpe: {new_train.shape}\")"
   ]
  },
  {
   "cell_type": "code",
   "execution_count": 35,
   "id": "f148030d",
   "metadata": {},
   "outputs": [
    {
     "name": "stdout",
     "output_type": "stream",
     "text": [
      "new_train : 1342281 rows & 434 columns\n",
      "new_test: 1137490 rows & 433 columns\n"
     ]
    }
   ],
   "source": [
    "print(f'new_train : {new_train.shape[0]} rows & {new_train.shape[1]} columns')\n",
    "print(f'new_test: {new_test.shape[0]} rows & {new_test.shape[1]} columns')"
   ]
  },
  {
   "cell_type": "code",
   "execution_count": null,
   "id": "c558366c",
   "metadata": {},
   "outputs": [],
   "source": []
  }
 ],
 "metadata": {
  "kernelspec": {
   "display_name": "Python 3 (ipykernel)",
   "language": "python",
   "name": "python3"
  },
  "language_info": {
   "codemirror_mode": {
    "name": "ipython",
    "version": 3
   },
   "file_extension": ".py",
   "mimetype": "text/x-python",
   "name": "python",
   "nbconvert_exporter": "python",
   "pygments_lexer": "ipython3",
   "version": "3.9.12"
  }
 },
 "nbformat": 4,
 "nbformat_minor": 5
}
